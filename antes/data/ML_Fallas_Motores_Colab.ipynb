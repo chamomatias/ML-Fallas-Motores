{
 "cells": [
  {
   "cell_type": "code",
   "execution_count": null,
   "id": "47d6c8af",
   "metadata": {},
   "outputs": [],
   "source": [
    "\n",
    "# 📌 Instalación de dependencias si es necesario\n",
    "# !pip install xgboost\n"
   ]
  },
  {
   "cell_type": "code",
   "execution_count": null,
   "id": "1ea50850",
   "metadata": {},
   "outputs": [],
   "source": [
    "\n",
    "import pandas as pd\n",
    "import numpy as np\n",
    "from sklearn.model_selection import train_test_split\n",
    "from sklearn.ensemble import RandomForestClassifier\n",
    "from sklearn.metrics import classification_report, confusion_matrix, roc_auc_score\n"
   ]
  },
  {
   "cell_type": "code",
   "execution_count": null,
   "id": "5567a900",
   "metadata": {},
   "outputs": [],
   "source": [
    "\n",
    "from google.colab import files\n",
    "uploaded = files.upload()\n",
    "\n",
    "df = pd.read_csv(next(iter(uploaded)))\n",
    "df['fecha'] = pd.to_datetime(df['fecha'])\n",
    "df = df.sort_values(by=['motor_id', 'fecha']).reset_index(drop=True)\n",
    "df.head()\n"
   ]
  },
  {
   "cell_type": "code",
   "execution_count": null,
   "id": "47eed7fa",
   "metadata": {},
   "outputs": [],
   "source": [
    "\n",
    "variables = ['temperatura', 'vibracion', 'presion', 'rpm', 'horas_operacion', 'consumo_energia']\n",
    "for var in variables:\n",
    "    df[f'{var}_mean_7d'] = df.groupby('motor_id')[var].transform(lambda x: x.rolling(window=7, min_periods=1).mean())\n",
    "    df[f'{var}_std_7d'] = df.groupby('motor_id')[var].transform(lambda x: x.rolling(window=7, min_periods=1).std())\n"
   ]
  },
  {
   "cell_type": "code",
   "execution_count": null,
   "id": "359ae19e",
   "metadata": {},
   "outputs": [],
   "source": [
    "\n",
    "df = df.dropna()\n",
    "features = [col for col in df.columns if '_mean_7d' in col or '_std_7d' in col]\n",
    "target = 'falla_en_15_dias'\n",
    "\n",
    "X = df[features]\n",
    "y = df[target]\n",
    "\n",
    "X_train, X_test, y_train, y_test = train_test_split(X, y, test_size=0.2, stratify=y, random_state=42)\n"
   ]
  },
  {
   "cell_type": "code",
   "execution_count": null,
   "id": "32a2b84a",
   "metadata": {},
   "outputs": [],
   "source": [
    "\n",
    "modelo_rf = RandomForestClassifier(n_estimators=100, random_state=42)\n",
    "modelo_rf.fit(X_train, y_train)\n",
    "\n",
    "y_pred = modelo_rf.predict(X_test)\n",
    "y_proba = modelo_rf.predict_proba(X_test)[:, 1]\n",
    "\n",
    "print(confusion_matrix(y_test, y_pred))\n",
    "print(classification_report(y_test, y_pred))\n",
    "print(\"ROC AUC:\", roc_auc_score(y_test, y_proba))\n"
   ]
  }
 ],
 "metadata": {},
 "nbformat": 4,
 "nbformat_minor": 5
}